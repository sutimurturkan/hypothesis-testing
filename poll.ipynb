{
  "nbformat": 4,
  "nbformat_minor": 5,
  "metadata": {
    "colab": {
      "name": "StatsFinal-2.ipynb",
      "provenance": [],
      "collapsed_sections": [
        "AOiKCJJRZbEX",
        "COubiYX8jUBC",
        "xRk2SjnapGHg",
        "R4Ph4x12snF9",
        "QRAxK5lM4Lli"
      ]
    },
    "language_info": {
      "name": "python"
    },
    "kernelspec": {
      "name": "python3",
      "display_name": "Python 3"
    }
  },
  "cells": [
    {
      "cell_type": "markdown",
      "metadata": {
        "id": "2LSnoIQtpV3M"
      },
      "source": [
        "A pre-referendum poll found that 92 people out of 200 supported the initiative. This a tiny percentage of the 4.6 million Swiss voters, of which\n",
        "about half are expected to vote."
      ],
      "id": "2LSnoIQtpV3M"
    },
    {
      "cell_type": "markdown",
      "metadata": {
        "id": "_9Y9jBy-ejPM"
      },
      "source": [
        "Every hypothesis uses a p-value to make a decision about the population. P-value represents the connection between probability and decision-making. We are interested in testing if the population proportion of votes that would be cast for the initiative is greater than 0.5, ensuring a pass. There are four steps to take:\n",
        "\n",
        "1 - Determine the hypotheses\n",
        "\n",
        "2 - Check assumptions for performing the test\n",
        "\n",
        "3 - Calculate the test statistic and find p-value\n",
        "\n",
        "4 - Interpret the found p-value\n"
      ],
      "id": "_9Y9jBy-ejPM"
    },
    {
      "cell_type": "markdown",
      "metadata": {
        "id": "dHKxdvN8iI9l"
      },
      "source": [
        "In this example, $p$ will represent the true proportion of all Swiss voters who would vote for the initiative. We test the null hypothesis:\n",
        "\n",
        "$H_0: p = 0.5$ \n",
        "\n",
        "against the alternative one:\n",
        "\n",
        "$H_1: p > 0.5$ \n",
        "\n",
        "This one uses the sign '>', therefore it is one-sided. "
      ],
      "id": "dHKxdvN8iI9l"
    },
    {
      "cell_type": "markdown",
      "metadata": {
        "id": "q2aXNz7BkGtR"
      },
      "source": [
        "Our goal is to assess whether or not our observed data is consistent with the null hypothesis; if it is within the reasonable bounds of sample variability or not. To get an overview of the data, we calculate the test statistic. Since this question is about a population proportion, using significance test:\n",
        "\n",
        "$ z = (p' - p_0) / \\sqrt((p_0)(1 - p_0) / n)$\n",
        "\n",
        "where:\n",
        "\n",
        "$p_0$ : value from $H_0$. In this case: 0.5\n",
        "\n",
        "$p'$ : value from the sample. In this case: $92$ / $200 = 0.46$\n"
      ],
      "id": "q2aXNz7BkGtR"
    },
    {
      "cell_type": "code",
      "metadata": {
        "id": "f0IMFCY7noEb"
      },
      "source": [
        "#observed proportion \n",
        "p = 0.46\n",
        "n = 200 "
      ],
      "id": "f0IMFCY7noEb",
      "execution_count": null,
      "outputs": []
    },
    {
      "cell_type": "code",
      "metadata": {
        "colab": {
          "base_uri": "https://localhost:8080/"
        },
        "id": "Re_0vRjKn91l",
        "outputId": "e29b3b9a-2130-4089-f3f8-280a034d9a75"
      },
      "source": [
        "z = (p - 0.5) / np.sqrt((0.5 * (0.5) / n))\n",
        "print (z)"
      ],
      "id": "Re_0vRjKn91l",
      "execution_count": null,
      "outputs": [
        {
          "output_type": "stream",
          "text": [
            "-1.1313708498984756\n"
          ],
          "name": "stdout"
        }
      ]
    },
    {
      "cell_type": "markdown",
      "metadata": {
        "id": "5DMdf9e_pxbb"
      },
      "source": [
        "With this, we know that our test-statistic z is $- 1.13$. \n",
        "We would use a Z-test if our sample consisted of independent data points and the sample is large. In this case, it is suitable. If the p-value is less than, or equal to, α, the null hypothesis is rejected at this significance level; but if the p-value is greater than α, then this means there is not enough evidence to reject the null hypothesis at this significance level. \n",
        "\n"
      ],
      "id": "5DMdf9e_pxbb"
    },
    {
      "cell_type": "markdown",
      "metadata": {
        "id": "VMz139ydweRd"
      },
      "source": [
        "For our right-tailed Z-test, p-value = $Pr(Z ≥ z | H_0)$ and the (cdf) of N(0,1) will give us the value since p-value will be found by $1 - Φ(x)$. We use scipy.stats to quickly get the p-value with the z : -1.13"
      ],
      "id": "VMz139ydweRd"
    },
    {
      "cell_type": "code",
      "metadata": {
        "colab": {
          "base_uri": "https://localhost:8080/"
        },
        "id": "Mwa9xVbfxdy0",
        "outputId": "5633b832-1c8a-4ce4-c1bc-1826b4bf33e6"
      },
      "source": [
        "import scipy.stats\n",
        "scipy.stats.norm.sf(-1.13)"
      ],
      "id": "Mwa9xVbfxdy0",
      "execution_count": null,
      "outputs": [
        {
          "output_type": "execute_result",
          "data": {
            "text/plain": [
              "0.8707618877599821"
            ]
          },
          "metadata": {
            "tags": []
          },
          "execution_count": 40
        }
      ]
    },
    {
      "cell_type": "markdown",
      "metadata": {
        "id": "ic2EwITRyDUS"
      },
      "source": [
        "The p-value is considerably larger than 0.05, which is the arbitrary significance level. This means that there isn't enough evidence to reject $H_0$ at this significance level. This indicates strong evidence for the null hypothesis, though does not accept it, and the farmer should not be confident that the initiative will pass solely regarding the poll."
      ],
      "id": "ic2EwITRyDUS"
    }
  ]
}